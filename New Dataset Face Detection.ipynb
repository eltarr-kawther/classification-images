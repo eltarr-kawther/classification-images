{
 "cells": [
  {
   "cell_type": "markdown",
   "id": "native-lightweight",
   "metadata": {},
   "source": [
    "# New Dataset Face Detection"
   ]
  },
  {
   "cell_type": "code",
   "execution_count": 5,
   "id": "outer-gender",
   "metadata": {},
   "outputs": [
    {
     "data": {
      "text/html": [
       "        <script type=\"text/javascript\">\n",
       "        window.PlotlyConfig = {MathJaxConfig: 'local'};\n",
       "        if (window.MathJax) {MathJax.Hub.Config({SVG: {font: \"STIX-Web\"}});}\n",
       "        if (typeof require !== 'undefined') {\n",
       "        require.undef(\"plotly\");\n",
       "        requirejs.config({\n",
       "            paths: {\n",
       "                'plotly': ['https://cdn.plot.ly/plotly-latest.min']\n",
       "            }\n",
       "        });\n",
       "        require(['plotly'], function(Plotly) {\n",
       "            window._Plotly = Plotly;\n",
       "        });\n",
       "        }\n",
       "        </script>\n",
       "        "
      ]
     },
     "metadata": {},
     "output_type": "display_data"
    }
   ],
   "source": [
    "# loading libraries\n",
    "# System\n",
    "import os\n",
    "import joblib\n",
    "from collections import Counter\n",
    "\n",
    "# Image processing\n",
    "import skimage\n",
    "from skimage.transform import resize\n",
    "from skimage.feature import hog\n",
    "from skimage.io import imread\n",
    "from skimage.transform import rescale\n",
    "\n",
    "# Data Processing\n",
    "import numpy as np\n",
    "import pandas as pd\n",
    "\n",
    "# data viz\n",
    "import matplotlib.pyplot as plt\n",
    "from plotly.offline import init_notebook_mode, iplot, plot\n",
    "import plotly as py\n",
    "init_notebook_mode(connected=True)\n",
    "import plotly.graph_objs as go\n",
    "\n",
    "# Machine Learning\n",
    "from sklearn.model_selection import train_test_split\n",
    "from sklearn.model_selection import cross_val_predict\n",
    "from sklearn.base import BaseEstimator, TransformerMixin\n",
    "from sklearn.preprocessing import StandardScaler, Normalizer, MinMaxScaler, RobustScaler, MaxAbsScaler\n",
    "from sklearn.pipeline import Pipeline\n",
    "from sklearn.linear_model import SGDClassifier\n",
    "from sklearn import svm\n",
    "from sklearn.naive_bayes import GaussianNB, MultinomialNB, BernoulliNB\n",
    "from sklearn.model_selection import GridSearchCV\n",
    "from sklearn.metrics import classification_report, confusion_matrix, plot_confusion_matrix"
   ]
  },
  {
   "cell_type": "code",
   "execution_count": 6,
   "id": "dense-snapshot",
   "metadata": {},
   "outputs": [],
   "source": [
    "# load function\n",
    "from resizedata import resize_data"
   ]
  },
  {
   "cell_type": "code",
   "execution_count": 7,
   "id": "incoming-intervention",
   "metadata": {},
   "outputs": [
    {
     "name": "stdout",
     "output_type": "stream",
     "text": [
      "['ButterflyHead', 'CatHead', 'ChickenHead', 'CowHead', 'DogHead', 'ElephantHead', 'HorseHead', 'SheepHead', 'SquirrelHead']\n"
     ]
    }
   ],
   "source": [
    "data_path2 = r'C:\\Users\\straw\\Desktop\\AIS\\ProjectPool 2\\Classification-images\\Data\\raw-img'\n",
    "print(os.listdir(data_path2))"
   ]
  },
  {
   "cell_type": "code",
   "execution_count": 8,
   "id": "absent-blind",
   "metadata": {},
   "outputs": [],
   "source": [
    "pklname2 = 'output2'"
   ]
  },
  {
   "cell_type": "code",
   "execution_count": 11,
   "id": "eight-immune",
   "metadata": {},
   "outputs": [],
   "source": [
    "width = 80\n",
    "include2 = {'ButterflyHead', 'CatHead', 'ElephantHead', 'DogHead', 'HorseHead', 'SheepHead', 'CowHead'}"
   ]
  },
  {
   "cell_type": "code",
   "execution_count": null,
   "id": "scenic-subject",
   "metadata": {},
   "outputs": [],
   "source": [
    "resize_data(path=data_path2, pklname=pklname2, include=include2, width=width)"
   ]
  },
  {
   "cell_type": "code",
   "execution_count": null,
   "id": "rocky-boards",
   "metadata": {},
   "outputs": [],
   "source": [
    "data2 = joblib.load(f'Output/{pklname2}_{width}x{width}px.pkl')\n",
    " \n",
    "print('Number of samples: ', len(data2['data']))\n",
    "print('Keys: ', list(data2.keys()))\n",
    "print('Description: ', data2['description'])\n",
    "print('Images shape: ', data2['data'][0].shape)\n",
    "print('Labels:', np.unique(data2['label']))"
   ]
  },
  {
   "cell_type": "code",
   "execution_count": null,
   "id": "united-municipality",
   "metadata": {},
   "outputs": [],
   "source": [
    "Counter(data2['label'])"
   ]
  },
  {
   "cell_type": "code",
   "execution_count": null,
   "id": "bulgarian-immigration",
   "metadata": {},
   "outputs": [],
   "source": [
    "labels = np.unique(data2['label'])\n",
    "\n",
    "fig, axes = plt.subplots(1, len(labels))\n",
    "fig.set_size_inches(15,15)\n",
    "for ax, label in zip(axes, labels):\n",
    "    idx = data2['label'].index(label)\n",
    "    ax.imshow(data2['data'][idx])\n",
    "    ax.axis('off')\n",
    "    ax.set_title(label)"
   ]
  },
  {
   "cell_type": "code",
   "execution_count": null,
   "id": "manufactured-equivalent",
   "metadata": {},
   "outputs": [],
   "source": [
    "X_bis = np.array(data2['data'])\n",
    "y_bis = np.array(data2['label'])"
   ]
  },
  {
   "cell_type": "code",
   "execution_count": null,
   "id": "external-precipitation",
   "metadata": {},
   "outputs": [],
   "source": [
    "X_train_bis, X_test_bis, y_train_bis, y_test_bis = train_test_split(X, y, test_size=0.2, shuffle=True, stratify=y)"
   ]
  },
  {
   "cell_type": "code",
   "execution_count": null,
   "id": "electoral-enterprise",
   "metadata": {},
   "outputs": [],
   "source": [
    "print(Counter(y))\n",
    "print(Counter(y_train_bis))\n",
    "print(Counter(y_test_bis))"
   ]
  }
 ],
 "metadata": {
  "kernelspec": {
   "display_name": "Python 3",
   "language": "python",
   "name": "python3"
  },
  "language_info": {
   "codemirror_mode": {
    "name": "ipython",
    "version": 3
   },
   "file_extension": ".py",
   "mimetype": "text/x-python",
   "name": "python",
   "nbconvert_exporter": "python",
   "pygments_lexer": "ipython3",
   "version": "3.8.5"
  }
 },
 "nbformat": 4,
 "nbformat_minor": 5
}
