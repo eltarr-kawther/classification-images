{
 "cells": [
  {
   "cell_type": "markdown",
   "id": "imposed-superior",
   "metadata": {},
   "source": [
    "# Face Detection among images"
   ]
  },
  {
   "cell_type": "code",
   "execution_count": 1,
   "id": "otherwise-filter",
   "metadata": {},
   "outputs": [],
   "source": [
    "# loading libraries\n",
    "import os\n",
    "import joblib\n",
    "from collections import Counter\n",
    "\n",
    "from skimage.io import imread\n",
    "from skimage.transform import resize\n",
    "\n",
    "import numpy as np\n",
    "\n",
    "import matplotlib.pyplot as plt"
   ]
  },
  {
   "cell_type": "markdown",
   "id": "cheap-bundle",
   "metadata": {},
   "source": [
    "### Data resizing"
   ]
  },
  {
   "cell_type": "code",
   "execution_count": 2,
   "id": "ceramic-declaration",
   "metadata": {},
   "outputs": [],
   "source": [
    "def resize_data(path, pklname, include, width=150, height=None):\n",
    "    \"\"\"\n",
    "    load images from path, resize them and write them as arrays to a dictionary,\n",
    "    together with labels and metadata. The dictionary is written to a pickle file\n",
    "    named '{pklname}_{width}x{height}px.pkl'.\n",
    "    \n",
    "    Parameter\n",
    "    ---------\n",
    "    src: str\n",
    "        path to data\n",
    "    pklname: str\n",
    "        path to output file\n",
    "    width: int\n",
    "        target width of the image in pixels\n",
    "    include: set[str]\n",
    "        set containing str\n",
    "    \"\"\"\n",
    "    height = height if height is not None else width\n",
    "    data = dict()\n",
    "    data['description'] = 'resized ({0}x{1})animal images in rgb'.format(int(width), int(height))\n",
    "    data['label'] = []\n",
    "    data['filename'] = []\n",
    "    data['data'] = []\n",
    "    \n",
    "    pklname = f\"Output/{pklname}_{width}x{height}px.pkl\"\n",
    "    for subdir in os.listdir(path):\n",
    "        if subdir in include:\n",
    "            print(subdir)\n",
    "            current_path = os.path.join(path, subdir)\n",
    "            \n",
    "            for file in os.listdir(current_path):\n",
    "                if file[-3:] in {'jpg', 'png'}:\n",
    "                    im = imread(os.path.join(current_path, file))\n",
    "                    im = resize(im, (width, height)) #[:,:,::-1]\n",
    "                    data['label'].append(subdir[:-4])\n",
    "                    data['filename'].append(file)\n",
    "                    data['data'].append(im)\n",
    "        joblib.dump(data, pklname)\n",
    "    return data"
   ]
  },
  {
   "cell_type": "code",
   "execution_count": 3,
   "id": "legendary-quarterly",
   "metadata": {},
   "outputs": [
    {
     "name": "stdout",
     "output_type": "stream",
     "text": [
      "['BearHead', 'CatHead', 'ChickenHead', 'CowHead', 'DeerHead', 'DogHead', 'DuckHead', 'EagleHead', 'ElephantHead', 'HumanHead', 'LionHead', 'MonkeyHead', 'MouseHead', 'Natural', 'PandaHead', 'PigeonHead', 'PigHead', 'RabbitHead', 'SheepHead', 'TigerHead', 'WolfHead']\n"
     ]
    }
   ],
   "source": [
    "data_path = r'C:\\Users\\straw\\Desktop\\AIS\\ProjectPool 2\\Classification-images\\AnimalFace'\n",
    "print(os.listdir(data_path))"
   ]
  },
  {
   "cell_type": "code",
   "execution_count": null,
   "id": "sized-uzbekistan",
   "metadata": {},
   "outputs": [
    {
     "name": "stdout",
     "output_type": "stream",
     "text": [
      "BearHead\n",
      "CatHead\n",
      "DeerHead\n",
      "EagleHead\n"
     ]
    }
   ],
   "source": [
    "pklname = 'output'\n",
    "width = 80\n",
    " \n",
    "include = {'CatHead', 'BearHead', 'ElephantHead', \n",
    "           'EagleHead', 'DeerHead', 'WolfHead', 'PandaHead'}\n",
    "\n",
    "resize_data(path=data_path, pklname=pklname, include=include, width=width)"
   ]
  },
  {
   "cell_type": "code",
   "execution_count": null,
   "id": "dated-august",
   "metadata": {},
   "outputs": [],
   "source": [
    "data = joblib.load(f'Output/{pklname}_{width}x{width}px.pkl')\n",
    " \n",
    "print('Number of samples: ', len(data['data']))\n",
    "print('Keys: ', list(data.keys()))\n",
    "print('Description: ', data['description'])\n",
    "print('Images shape: ', data['data'][0].shape)\n",
    "print('Labels:', np.unique(data['label']))"
   ]
  },
  {
   "cell_type": "code",
   "execution_count": null,
   "id": "weekly-chicken",
   "metadata": {},
   "outputs": [],
   "source": [
    "Counter(data['label'])"
   ]
  },
  {
   "cell_type": "code",
   "execution_count": null,
   "id": "historical-dealer",
   "metadata": {},
   "outputs": [],
   "source": [
    "labels = np.unique(data['label'])\n",
    "\n",
    "fig, axes = plt.subplots(1, len(labels))\n",
    "fig.set_size_inches(15,4)\n",
    "fig.tight_layout()\n",
    "for ax, label in zip(axes, labels):\n",
    "    idx = data['label'].index(label)\n",
    "    ax.imshow(data['data'][idx])\n",
    "    ax.axis('off')\n",
    "    ax.set_title(label)\n"
   ]
  },
  {
   "cell_type": "code",
   "execution_count": null,
   "id": "wicked-publisher",
   "metadata": {},
   "outputs": [],
   "source": [
    "X = np.array(data['data'])\n",
    "y = np.array(data['label'])"
   ]
  }
 ],
 "metadata": {
  "kernelspec": {
   "display_name": "Python 3",
   "language": "python",
   "name": "python3"
  },
  "language_info": {
   "codemirror_mode": {
    "name": "ipython",
    "version": 3
   },
   "file_extension": ".py",
   "mimetype": "text/x-python",
   "name": "python",
   "nbconvert_exporter": "python",
   "pygments_lexer": "ipython3",
   "version": "3.8.5"
  }
 },
 "nbformat": 4,
 "nbformat_minor": 5
}
